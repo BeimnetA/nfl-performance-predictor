{
 "cells": [
  {
   "cell_type": "code",
   "execution_count": 5,
   "metadata": {},
   "outputs": [
    {
     "name": "stdout",
     "output_type": "stream",
     "text": [
      "Index(['Rk', 'Player', 'Age', 'Team', 'Pos', 'G', 'GS', 'QBrec', 'Cmp', 'Att',\n",
      "       'Cmp%', 'Yds', 'TD', 'TD%', 'Int', 'Int%', '1D', 'Succ%', 'Lng', 'Y/A',\n",
      "       'AY/A', 'Y/C', 'Y/G', 'Rate', 'QBR', 'Sk', 'Yds.1', 'Sk%', 'NY/A',\n",
      "       'ANY/A', '4QC', 'GWD', 'Awards', 'Player-additional'],\n",
      "      dtype='object')\n"
     ]
    }
   ],
   "source": [
    "import pandas as pd\n",
    "\n",
    "df = pd.read_csv(\"../data/nfl_2024_passing_stats.csv\")\n",
    "df.head()\n",
    "\n",
    "print(df.columns)\n",
    "\n",
    "df[\"TD_INT_ratio\"] = df[\"TD\"] / df[\"Int\"].replace(0, 1)"
   ]
  },
  {
   "cell_type": "code",
   "execution_count": 6,
   "metadata": {},
   "outputs": [],
   "source": [
    "df[\"Td_per_game\"] = df[\"TD\"] / df[\"G\"]"
   ]
  },
  {
   "cell_type": "code",
   "execution_count": 7,
   "metadata": {},
   "outputs": [
    {
     "data": {
      "text/plain": [
       "Rk                   float64\n",
       "Player                object\n",
       "Age                  float64\n",
       "Team                  object\n",
       "Pos                   object\n",
       "G                    float64\n",
       "GS                   float64\n",
       "QBrec                 object\n",
       "Cmp                  float64\n",
       "Att                  float64\n",
       "Cmp%                 float64\n",
       "Yds                  float64\n",
       "TD                   float64\n",
       "TD%                  float64\n",
       "Int                  float64\n",
       "Int%                 float64\n",
       "1D                   float64\n",
       "Succ%                float64\n",
       "Lng                  float64\n",
       "Y/A                  float64\n",
       "AY/A                 float64\n",
       "Y/C                  float64\n",
       "Y/G                  float64\n",
       "Rate                 float64\n",
       "QBR                  float64\n",
       "Sk                   float64\n",
       "Yds.1                float64\n",
       "Sk%                  float64\n",
       "NY/A                 float64\n",
       "ANY/A                float64\n",
       "4QC                  float64\n",
       "GWD                  float64\n",
       "Awards                object\n",
       "Player-additional     object\n",
       "TD_INT_ratio         float64\n",
       "Td_per_game          float64\n",
       "dtype: object"
      ]
     },
     "execution_count": 7,
     "metadata": {},
     "output_type": "execute_result"
    }
   ],
   "source": [
    "df.dtypes"
   ]
  },
  {
   "cell_type": "code",
   "execution_count": 8,
   "metadata": {},
   "outputs": [
    {
     "data": {
      "text/plain": [
       "Index(['Rk', 'Player', 'Age', 'Team', 'Pos', 'G', 'GS', 'QBrec', 'Cmp', 'Att',\n",
       "       'Cmp%', 'Yds', 'TD', 'TD%', 'Int', 'Int%', '1D', 'Succ%', 'Lng', 'Y/A',\n",
       "       'AY/A', 'Y/C', 'Y/G', 'Rate', 'QBR', 'Sk', 'Yds.1', 'Sk%', 'NY/A',\n",
       "       'ANY/A', '4QC', 'GWD', 'Awards', 'Player-additional', 'TD_INT_ratio',\n",
       "       'Td_per_game'],\n",
       "      dtype='object')"
      ]
     },
     "execution_count": 8,
     "metadata": {},
     "output_type": "execute_result"
    }
   ],
   "source": [
    "df.columns"
   ]
  },
  {
   "cell_type": "code",
   "execution_count": 10,
   "metadata": {},
   "outputs": [
    {
     "name": "stdout",
     "output_type": "stream",
     "text": [
      "['Rk', 'Player', 'Age', 'Team', 'Pos', 'G', 'GS', 'QBrec', 'Cmp', 'Att', 'Cmp%', 'Yds', 'TD', 'TD%', 'Int', 'Int%', '1D', 'Succ%', 'Lng', 'Y/A', 'AY/A', 'Y/C', 'Y/G', 'Rate', 'QBR', 'Sk', 'Yds.1', 'Sk%', 'NY/A', 'ANY/A', '4QC', 'GWD', 'Awards', 'Player-additional', 'TD_INT_ratio', 'Td_per_game']\n"
     ]
    }
   ],
   "source": [
    "print(df.columns.tolist())"
   ]
  },
  {
   "cell_type": "code",
   "execution_count": 11,
   "metadata": {},
   "outputs": [
    {
     "name": "stdout",
     "output_type": "stream",
     "text": [
      "           Player  Cmp%    Att  Int%     G  TD%\n",
      "0      Joe Burrow  70.6  652.0   1.4  17.0  6.6\n",
      "1      Jared Goff  72.4  539.0   2.2  17.0  6.9\n",
      "2  Baker Mayfield  71.4  570.0   2.8  17.0  7.2\n",
      "3      Geno Smith  70.4  578.0   2.6  17.0  3.6\n",
      "4     Sam Darnold  66.2  545.0   2.2  17.0  6.4\n",
      "5   Lamar Jackson  66.7  474.0   0.8  17.0  8.6\n"
     ]
    }
   ],
   "source": [
    "df = df.rename(columns = {\"Yds.1\": \"Sack_Yds\"})\n",
    "df.columns\n",
    "print(df[[\"Player\", \"Cmp%\", \"Att\", \"Int%\", \"G\", \"TD%\"]].head(6))\n"
   ]
  },
  {
   "cell_type": "code",
   "execution_count": 15,
   "metadata": {},
   "outputs": [
    {
     "data": {
      "text/html": [
       "<div>\n",
       "<style scoped>\n",
       "    .dataframe tbody tr th:only-of-type {\n",
       "        vertical-align: middle;\n",
       "    }\n",
       "\n",
       "    .dataframe tbody tr th {\n",
       "        vertical-align: top;\n",
       "    }\n",
       "\n",
       "    .dataframe thead th {\n",
       "        text-align: right;\n",
       "    }\n",
       "</style>\n",
       "<table border=\"1\" class=\"dataframe\">\n",
       "  <thead>\n",
       "    <tr style=\"text-align: right;\">\n",
       "      <th></th>\n",
       "      <th>Rk</th>\n",
       "      <th>Player</th>\n",
       "      <th>Age</th>\n",
       "      <th>Team</th>\n",
       "      <th>Pos</th>\n",
       "      <th>G</th>\n",
       "      <th>GS</th>\n",
       "      <th>QBrec</th>\n",
       "      <th>Cmp</th>\n",
       "      <th>Att</th>\n",
       "      <th>...</th>\n",
       "      <th>Sack_Yds</th>\n",
       "      <th>Sk%</th>\n",
       "      <th>NY/A</th>\n",
       "      <th>ANY/A</th>\n",
       "      <th>4QC</th>\n",
       "      <th>GWD</th>\n",
       "      <th>Awards</th>\n",
       "      <th>Player-additional</th>\n",
       "      <th>TD_INT_ratio</th>\n",
       "      <th>Td_per_game</th>\n",
       "    </tr>\n",
       "  </thead>\n",
       "  <tbody>\n",
       "  </tbody>\n",
       "</table>\n",
       "<p>0 rows × 36 columns</p>\n",
       "</div>"
      ],
      "text/plain": [
       "Empty DataFrame\n",
       "Columns: [Rk, Player, Age, Team, Pos, G, GS, QBrec, Cmp, Att, Cmp%, Yds, TD, TD%, Int, Int%, 1D, Succ%, Lng, Y/A, AY/A, Y/C, Y/G, Rate, QBR, Sk, Sack_Yds, Sk%, NY/A, ANY/A, 4QC, GWD, Awards, Player-additional, TD_INT_ratio, Td_per_game]\n",
       "Index: []\n",
       "\n",
       "[0 rows x 36 columns]"
      ]
     },
     "execution_count": 15,
     "metadata": {},
     "output_type": "execute_result"
    }
   ],
   "source": [
    "df.duplicated().sum()\n",
    "df[df.duplicated()]"
   ]
  },
  {
   "cell_type": "code",
   "execution_count": 12,
   "metadata": {},
   "outputs": [
    {
     "data": {
      "text/plain": [
       "0          Joe Burrow\n",
       "1          Jared Goff\n",
       "2      Baker Mayfield\n",
       "3          Geno Smith\n",
       "4         Sam Darnold\n",
       "            ...      \n",
       "82       Josh Johnson\n",
       "84       Tyson Bagent\n",
       "85       Clayton Tune\n",
       "87         Kyle Trask\n",
       "107    Chris Oladokun\n",
       "Name: Player, Length: 78, dtype: object"
      ]
     },
     "execution_count": 12,
     "metadata": {},
     "output_type": "execute_result"
    }
   ],
   "source": [
    "df = df[df[\"Pos\"] == \"QB\"]\n",
    "df[\"Pos\"].unique()\n",
    "df[\"Player\"].head(100)"
   ]
  },
  {
   "cell_type": "code",
   "execution_count": 13,
   "metadata": {},
   "outputs": [],
   "source": [
    "# function to only keep the totals of players who played on multiple teams and not their stats on each team so they only have one row\n",
    "def keep_totals_only(df):\n",
    "    duplicate_players = df[\"Player\"][df[\"Player\"].duplicated(keep=False)].unique()\n",
    "\n",
    "    traded = df[df[\"Player\"].isin(duplicate_players)]  # rows for traded players\n",
    "    not_traded = df[~df[\"Player\"].isin(duplicate_players)]\n",
    "\n",
    "    traded_totals = traded[traded[\"Team\"] == \"TOT\"]\n",
    "\n",
    "    clean_df = pd.concat([not_traded, traded_totals], ignore_index=True)\n",
    "    \n",
    "    return clean_df\n",
    "\n",
    "df = keep_totals_only(df)"
   ]
  },
  {
   "cell_type": "code",
   "execution_count": 17,
   "metadata": {},
   "outputs": [
    {
     "data": {
      "text/plain": [
       "Rk                    0\n",
       "Player                0\n",
       "Age                   0\n",
       "Team                  0\n",
       "Pos                   0\n",
       "G                     0\n",
       "GS                    0\n",
       "QBrec                15\n",
       "Cmp                   0\n",
       "Att                   0\n",
       "Cmp%                  0\n",
       "Yds                   0\n",
       "TD                    0\n",
       "TD%                   0\n",
       "Int                   0\n",
       "Int%                  0\n",
       "1D                    0\n",
       "Succ%                 0\n",
       "Lng                   0\n",
       "Y/A                   0\n",
       "AY/A                  0\n",
       "Y/C                   0\n",
       "Y/G                   0\n",
       "Rate                  0\n",
       "QBR                   0\n",
       "Sk                    0\n",
       "Yds.1                 0\n",
       "Sk%                   0\n",
       "NY/A                  0\n",
       "ANY/A                 0\n",
       "4QC                   0\n",
       "GWD                   0\n",
       "Awards               57\n",
       "Player-additional     0\n",
       "TD_INT_ratio          0\n",
       "Td_per_game           0\n",
       "dtype: int64"
      ]
     },
     "execution_count": 17,
     "metadata": {},
     "output_type": "execute_result"
    }
   ],
   "source": [
    "df.isna().sum()"
   ]
  },
  {
   "cell_type": "code",
   "execution_count": 28,
   "metadata": {},
   "outputs": [
    {
     "data": {
      "text/plain": [
       "Index(['Rk', 'Player', 'Age', 'Team', 'Pos', 'G', 'GS', 'QBrec', 'Cmp', 'Att',\n",
       "       'Cmp%', 'Yds', 'TD', 'TD%', 'Int', 'Int%', '1D', 'Succ%', 'Y/A', 'AY/A',\n",
       "       'Y/C', 'Y/G', 'Rate', 'QBR', 'Sk', 'Yds.1', 'Sk%', 'NY/A', 'ANY/A',\n",
       "       '4QC', 'GWD', 'Awards', 'Player-additional', 'TD_INT_ratio',\n",
       "       'Td_per_game'],\n",
       "      dtype='object')"
      ]
     },
     "execution_count": 28,
     "metadata": {},
     "output_type": "execute_result"
    }
   ],
   "source": [
    "\"Lng\" in df.columns \n",
    "df.columns"
   ]
  },
  {
   "cell_type": "code",
   "execution_count": 30,
   "metadata": {},
   "outputs": [
    {
     "data": {
      "text/plain": [
       "Rk                    0\n",
       "Player                0\n",
       "Age                   0\n",
       "Team                  0\n",
       "Pos                   0\n",
       "G                     0\n",
       "GS                    0\n",
       "QBrec                15\n",
       "Cmp                   0\n",
       "Att                   0\n",
       "Cmp%                  0\n",
       "Yds                   0\n",
       "TD                    0\n",
       "TD%                   0\n",
       "Int                   0\n",
       "Int%                  0\n",
       "1D                    0\n",
       "Succ%                 0\n",
       "Y/A                   0\n",
       "AY/A                  0\n",
       "Y/C                   0\n",
       "Y/G                   0\n",
       "Rate                  0\n",
       "QBR                   0\n",
       "Sk                    0\n",
       "Yds.1                 0\n",
       "Sk%                   0\n",
       "NY/A                  0\n",
       "ANY/A                 0\n",
       "4QC                   0\n",
       "GWD                   0\n",
       "Awards                0\n",
       "Player-additional     0\n",
       "TD_INT_ratio          0\n",
       "Td_per_game           0\n",
       "dtype: int64"
      ]
     },
     "execution_count": 30,
     "metadata": {},
     "output_type": "execute_result"
    }
   ],
   "source": [
    "df[\"Awards\"] = df[\"Awards\"].fillna(0)\n",
    "df.isna().sum()"
   ]
  }
 ],
 "metadata": {
  "kernelspec": {
   "display_name": "Python 3",
   "language": "python",
   "name": "python3"
  },
  "language_info": {
   "codemirror_mode": {
    "name": "ipython",
    "version": 3
   },
   "file_extension": ".py",
   "mimetype": "text/x-python",
   "name": "python",
   "nbconvert_exporter": "python",
   "pygments_lexer": "ipython3",
   "version": "3.11.5"
  },
  "orig_nbformat": 4
 },
 "nbformat": 4,
 "nbformat_minor": 2
}
