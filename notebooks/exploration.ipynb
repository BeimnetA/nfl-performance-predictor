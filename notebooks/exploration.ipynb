{
 "cells": [
  {
   "cell_type": "code",
   "execution_count": 5,
   "metadata": {},
   "outputs": [
    {
     "name": "stdout",
     "output_type": "stream",
     "text": [
      "Index(['Rk', 'Player', 'Age', 'Team', 'Pos', 'G', 'GS', 'QBrec', 'Cmp', 'Att',\n",
      "       'Cmp%', 'Yds', 'TD', 'TD%', 'Int', 'Int%', '1D', 'Succ%', 'Lng', 'Y/A',\n",
      "       'AY/A', 'Y/C', 'Y/G', 'Rate', 'QBR', 'Sk', 'Yds.1', 'Sk%', 'NY/A',\n",
      "       'ANY/A', '4QC', 'GWD', 'Awards', 'Player-additional'],\n",
      "      dtype='object')\n"
     ]
    }
   ],
   "source": [
    "import pandas as pd\n",
    "\n",
    "df = pd.read_csv(\"../data/nfl_2024_passing_stats.csv\")\n",
    "df.head()\n",
    "\n",
    "print(df.columns)\n",
    "\n",
    "df[\"TD_INT_ratio\"] = df[\"TD\"] / df[\"Int\"].replace(0, 1)"
   ]
  },
  {
   "cell_type": "code",
   "execution_count": 6,
   "metadata": {},
   "outputs": [],
   "source": [
    "df[\"Td_per_game\"] = df[\"TD\"] / df[\"G\"]"
   ]
  },
  {
   "cell_type": "code",
   "execution_count": 3,
   "metadata": {},
   "outputs": [
    {
     "data": {
      "text/plain": [
       "Rk                   float64\n",
       "Player                object\n",
       "Age                  float64\n",
       "Team                  object\n",
       "Pos                   object\n",
       "G                    float64\n",
       "GS                   float64\n",
       "QBrec                 object\n",
       "Cmp                  float64\n",
       "Att                  float64\n",
       "Cmp%                 float64\n",
       "Yds                  float64\n",
       "TD                   float64\n",
       "TD%                  float64\n",
       "Int                  float64\n",
       "Int%                 float64\n",
       "1D                   float64\n",
       "Succ%                float64\n",
       "Lng                  float64\n",
       "Y/A                  float64\n",
       "AY/A                 float64\n",
       "Y/C                  float64\n",
       "Y/G                  float64\n",
       "Rate                 float64\n",
       "QBR                  float64\n",
       "Sk                   float64\n",
       "Yds.1                float64\n",
       "Sk%                  float64\n",
       "NY/A                 float64\n",
       "ANY/A                float64\n",
       "4QC                  float64\n",
       "GWD                  float64\n",
       "Awards                object\n",
       "Player-additional     object\n",
       "TD_INT_ratio         float64\n",
       "Td_per_game          float64\n",
       "dtype: object"
      ]
     },
     "execution_count": 3,
     "metadata": {},
     "output_type": "execute_result"
    }
   ],
   "source": [
    "df.dtypes"
   ]
  },
  {
   "cell_type": "code",
   "execution_count": 7,
   "metadata": {},
   "outputs": [
    {
     "data": {
      "text/plain": [
       "Index(['Rk', 'Player', 'Age', 'Team', 'Pos', 'G', 'GS', 'QBrec', 'Cmp', 'Att',\n",
       "       'Cmp%', 'Yds', 'TD', 'TD%', 'Int', 'Int%', '1D', 'Succ%', 'Lng', 'Y/A',\n",
       "       'AY/A', 'Y/C', 'Y/G', 'Rate', 'QBR', 'Sk', 'Yds.1', 'Sk%', 'NY/A',\n",
       "       'ANY/A', '4QC', 'GWD', 'Awards', 'Player-additional', 'TD_INT_ratio',\n",
       "       'Td_per_game'],\n",
       "      dtype='object')"
      ]
     },
     "execution_count": 7,
     "metadata": {},
     "output_type": "execute_result"
    }
   ],
   "source": [
    "df.columns"
   ]
  },
  {
   "cell_type": "code",
   "execution_count": 8,
   "metadata": {},
   "outputs": [
    {
     "name": "stdout",
     "output_type": "stream",
     "text": [
      "['Rk', 'Player', 'Age', 'Team', 'Pos', 'G', 'GS', 'QBrec', 'Cmp', 'Att', 'Cmp%', 'Yds', 'TD', 'TD%', 'Int', 'Int%', '1D', 'Succ%', 'Lng', 'Y/A', 'AY/A', 'Y/C', 'Y/G', 'Rate', 'QBR', 'Sk', 'Yds.1', 'Sk%', 'NY/A', 'ANY/A', '4QC', 'GWD', 'Awards', 'Player-additional', 'TD_INT_ratio', 'Td_per_game']\n"
     ]
    }
   ],
   "source": [
    "print(df.columns.tolist())"
   ]
  },
  {
   "cell_type": "code",
   "execution_count": 7,
   "metadata": {},
   "outputs": [
    {
     "name": "stdout",
     "output_type": "stream",
     "text": [
      "           Player  Cmp%    Att  Int%     G  TD%\n",
      "0      Joe Burrow  70.6  652.0   1.4  17.0  6.6\n",
      "1      Jared Goff  72.4  539.0   2.2  17.0  6.9\n",
      "2  Baker Mayfield  71.4  570.0   2.8  17.0  7.2\n",
      "3      Geno Smith  70.4  578.0   2.6  17.0  3.6\n",
      "4     Sam Darnold  66.2  545.0   2.2  17.0  6.4\n",
      "5   Lamar Jackson  66.7  474.0   0.8  17.0  8.6\n"
     ]
    }
   ],
   "source": [
    "df = df.rename(columns = {\"Yds.1\": \"Sack_Yds\"})\n",
    "df.columns\n",
    "print(df[[\"Player\", \"Cmp%\", \"Att\", \"Int%\", \"G\", \"TD%\"]].head(6))\n"
   ]
  },
  {
   "cell_type": "code",
   "execution_count": 8,
   "metadata": {},
   "outputs": [
    {
     "data": {
      "text/html": [
       "<div>\n",
       "<style scoped>\n",
       "    .dataframe tbody tr th:only-of-type {\n",
       "        vertical-align: middle;\n",
       "    }\n",
       "\n",
       "    .dataframe tbody tr th {\n",
       "        vertical-align: top;\n",
       "    }\n",
       "\n",
       "    .dataframe thead th {\n",
       "        text-align: right;\n",
       "    }\n",
       "</style>\n",
       "<table border=\"1\" class=\"dataframe\">\n",
       "  <thead>\n",
       "    <tr style=\"text-align: right;\">\n",
       "      <th></th>\n",
       "      <th>Rk</th>\n",
       "      <th>Player</th>\n",
       "      <th>Age</th>\n",
       "      <th>Team</th>\n",
       "      <th>Pos</th>\n",
       "      <th>G</th>\n",
       "      <th>GS</th>\n",
       "      <th>QBrec</th>\n",
       "      <th>Cmp</th>\n",
       "      <th>Att</th>\n",
       "      <th>...</th>\n",
       "      <th>Sack_Yds</th>\n",
       "      <th>Sk%</th>\n",
       "      <th>NY/A</th>\n",
       "      <th>ANY/A</th>\n",
       "      <th>4QC</th>\n",
       "      <th>GWD</th>\n",
       "      <th>Awards</th>\n",
       "      <th>Player-additional</th>\n",
       "      <th>TD_INT_ratio</th>\n",
       "      <th>Td_per_game</th>\n",
       "    </tr>\n",
       "  </thead>\n",
       "  <tbody>\n",
       "  </tbody>\n",
       "</table>\n",
       "<p>0 rows × 36 columns</p>\n",
       "</div>"
      ],
      "text/plain": [
       "Empty DataFrame\n",
       "Columns: [Rk, Player, Age, Team, Pos, G, GS, QBrec, Cmp, Att, Cmp%, Yds, TD, TD%, Int, Int%, 1D, Succ%, Lng, Y/A, AY/A, Y/C, Y/G, Rate, QBR, Sk, Sack_Yds, Sk%, NY/A, ANY/A, 4QC, GWD, Awards, Player-additional, TD_INT_ratio, Td_per_game]\n",
       "Index: []\n",
       "\n",
       "[0 rows x 36 columns]"
      ]
     },
     "execution_count": 8,
     "metadata": {},
     "output_type": "execute_result"
    }
   ],
   "source": [
    "df.duplicated().sum()\n",
    "df[df.duplicated()]"
   ]
  },
  {
   "cell_type": "code",
   "execution_count": 9,
   "metadata": {},
   "outputs": [
    {
     "data": {
      "text/plain": [
       "0          Joe Burrow\n",
       "1          Jared Goff\n",
       "2      Baker Mayfield\n",
       "3          Geno Smith\n",
       "4         Sam Darnold\n",
       "            ...      \n",
       "82       Josh Johnson\n",
       "84       Tyson Bagent\n",
       "85       Clayton Tune\n",
       "87         Kyle Trask\n",
       "107    Chris Oladokun\n",
       "Name: Player, Length: 78, dtype: object"
      ]
     },
     "execution_count": 9,
     "metadata": {},
     "output_type": "execute_result"
    }
   ],
   "source": [
    "df = df[df[\"Pos\"] == \"QB\"]\n",
    "df[\"Pos\"].unique()\n",
    "df[\"Player\"].head(100)"
   ]
  },
  {
   "cell_type": "code",
   "execution_count": 10,
   "metadata": {},
   "outputs": [],
   "source": [
    "# function to only keep the totals of players who played on multiple teams and not their stats on each team so they only have one row\n",
    "def keep_totals_only(df):\n",
    "    duplicate_players = df[\"Player\"][df[\"Player\"].duplicated(keep=False)].unique()\n",
    "\n",
    "    traded = df[df[\"Player\"].isin(duplicate_players)]  # rows for traded players\n",
    "    not_traded = df[~df[\"Player\"].isin(duplicate_players)]\n",
    "\n",
    "    traded_totals = traded[traded[\"Team\"] == \"TOT\"]\n",
    "\n",
    "    clean_df = pd.concat([not_traded, traded_totals], ignore_index=True)\n",
    "    \n",
    "    return clean_df\n",
    "\n",
    "df = keep_totals_only(df)"
   ]
  },
  {
   "cell_type": "code",
   "execution_count": 11,
   "metadata": {},
   "outputs": [
    {
     "data": {
      "text/plain": [
       "Rk                    0\n",
       "Player                0\n",
       "Age                   0\n",
       "Team                  0\n",
       "Pos                   0\n",
       "G                     0\n",
       "GS                    0\n",
       "QBrec                16\n",
       "Cmp                   0\n",
       "Att                   0\n",
       "Cmp%                  1\n",
       "Yds                   0\n",
       "TD                    0\n",
       "TD%                   1\n",
       "Int                   0\n",
       "Int%                  1\n",
       "1D                    0\n",
       "Succ%                 1\n",
       "Lng                   1\n",
       "Y/A                   1\n",
       "AY/A                  1\n",
       "Y/C                   1\n",
       "Y/G                   0\n",
       "Rate                  1\n",
       "QBR                   0\n",
       "Sk                    0\n",
       "Sack_Yds              0\n",
       "Sk%                   0\n",
       "NY/A                  0\n",
       "ANY/A                 0\n",
       "4QC                   0\n",
       "GWD                   0\n",
       "Awards               58\n",
       "Player-additional     0\n",
       "TD_INT_ratio          0\n",
       "Td_per_game           0\n",
       "dtype: int64"
      ]
     },
     "execution_count": 11,
     "metadata": {},
     "output_type": "execute_result"
    }
   ],
   "source": [
    "df.isna().sum()"
   ]
  },
  {
   "cell_type": "code",
   "execution_count": 12,
   "metadata": {},
   "outputs": [
    {
     "data": {
      "text/plain": [
       "Index(['Rk', 'Player', 'Age', 'Team', 'Pos', 'G', 'GS', 'QBrec', 'Cmp', 'Att',\n",
       "       'Cmp%', 'Yds', 'TD', 'TD%', 'Int', 'Int%', '1D', 'Succ%', 'Lng', 'Y/A',\n",
       "       'AY/A', 'Y/C', 'Y/G', 'Rate', 'QBR', 'Sk', 'Sack_Yds', 'Sk%', 'NY/A',\n",
       "       'ANY/A', '4QC', 'GWD', 'Awards', 'Player-additional', 'TD_INT_ratio',\n",
       "       'Td_per_game'],\n",
       "      dtype='object')"
      ]
     },
     "execution_count": 12,
     "metadata": {},
     "output_type": "execute_result"
    }
   ],
   "source": [
    "\"Lng\" in df.columns \n",
    "df.columns"
   ]
  },
  {
   "cell_type": "code",
   "execution_count": 13,
   "metadata": {},
   "outputs": [
    {
     "data": {
      "text/plain": [
       "Rk                    0\n",
       "Player                0\n",
       "Age                   0\n",
       "Team                  0\n",
       "Pos                   0\n",
       "G                     0\n",
       "GS                    0\n",
       "QBrec                16\n",
       "Cmp                   0\n",
       "Att                   0\n",
       "Cmp%                  1\n",
       "Yds                   0\n",
       "TD                    0\n",
       "TD%                   1\n",
       "Int                   0\n",
       "Int%                  1\n",
       "1D                    0\n",
       "Succ%                 1\n",
       "Lng                   1\n",
       "Y/A                   1\n",
       "AY/A                  1\n",
       "Y/C                   1\n",
       "Y/G                   0\n",
       "Rate                  1\n",
       "QBR                   0\n",
       "Sk                    0\n",
       "Sack_Yds              0\n",
       "Sk%                   0\n",
       "NY/A                  0\n",
       "ANY/A                 0\n",
       "4QC                   0\n",
       "GWD                   0\n",
       "Awards                0\n",
       "Player-additional     0\n",
       "TD_INT_ratio          0\n",
       "Td_per_game           0\n",
       "dtype: int64"
      ]
     },
     "execution_count": 13,
     "metadata": {},
     "output_type": "execute_result"
    }
   ],
   "source": [
    "df[\"Awards\"] = df[\"Awards\"].fillna(0)\n",
    "df.isna().sum()"
   ]
  },
  {
   "cell_type": "code",
   "execution_count": 9,
   "metadata": {},
   "outputs": [],
   "source": [
    "import os\n",
    "os.getcwd()\n",
    "\n",
    "df.to_csv(\"../data/nfl_2024_clean.csv\", index=False)"
   ]
  },
  {
   "cell_type": "code",
   "execution_count": 10,
   "metadata": {},
   "outputs": [
    {
     "data": {
      "text/html": [
       "<div>\n",
       "<style scoped>\n",
       "    .dataframe tbody tr th:only-of-type {\n",
       "        vertical-align: middle;\n",
       "    }\n",
       "\n",
       "    .dataframe tbody tr th {\n",
       "        vertical-align: top;\n",
       "    }\n",
       "\n",
       "    .dataframe thead th {\n",
       "        text-align: right;\n",
       "    }\n",
       "</style>\n",
       "<table border=\"1\" class=\"dataframe\">\n",
       "  <thead>\n",
       "    <tr style=\"text-align: right;\">\n",
       "      <th></th>\n",
       "      <th>Rk</th>\n",
       "      <th>Age</th>\n",
       "      <th>G</th>\n",
       "      <th>GS</th>\n",
       "      <th>Cmp</th>\n",
       "      <th>Att</th>\n",
       "      <th>Cmp%</th>\n",
       "      <th>Yds</th>\n",
       "      <th>TD</th>\n",
       "      <th>TD%</th>\n",
       "      <th>...</th>\n",
       "      <th>QBR</th>\n",
       "      <th>Sk</th>\n",
       "      <th>Yds.1</th>\n",
       "      <th>Sk%</th>\n",
       "      <th>NY/A</th>\n",
       "      <th>ANY/A</th>\n",
       "      <th>4QC</th>\n",
       "      <th>GWD</th>\n",
       "      <th>TD_INT_ratio</th>\n",
       "      <th>Td_per_game</th>\n",
       "    </tr>\n",
       "  </thead>\n",
       "  <tbody>\n",
       "    <tr>\n",
       "      <th>count</th>\n",
       "      <td>111.000000</td>\n",
       "      <td>111.000000</td>\n",
       "      <td>111.000000</td>\n",
       "      <td>111.000000</td>\n",
       "      <td>111.000000</td>\n",
       "      <td>111.000000</td>\n",
       "      <td>106.000000</td>\n",
       "      <td>111.000000</td>\n",
       "      <td>111.000000</td>\n",
       "      <td>106.000000</td>\n",
       "      <td>...</td>\n",
       "      <td>100.000000</td>\n",
       "      <td>111.000000</td>\n",
       "      <td>111.000000</td>\n",
       "      <td>112.000000</td>\n",
       "      <td>112.000000</td>\n",
       "      <td>112.000000</td>\n",
       "      <td>111.000000</td>\n",
       "      <td>111.000000</td>\n",
       "      <td>111.000000</td>\n",
       "      <td>111.000000</td>\n",
       "    </tr>\n",
       "    <tr>\n",
       "      <th>mean</th>\n",
       "      <td>54.981982</td>\n",
       "      <td>28.009009</td>\n",
       "      <td>10.639640</td>\n",
       "      <td>7.468468</td>\n",
       "      <td>105.009009</td>\n",
       "      <td>160.909910</td>\n",
       "      <td>61.426415</td>\n",
       "      <td>1146.846847</td>\n",
       "      <td>7.297297</td>\n",
       "      <td>5.910377</td>\n",
       "      <td>...</td>\n",
       "      <td>44.030000</td>\n",
       "      <td>11.855856</td>\n",
       "      <td>77.936937</td>\n",
       "      <td>10.816161</td>\n",
       "      <td>5.849464</td>\n",
       "      <td>5.780714</td>\n",
       "      <td>0.594595</td>\n",
       "      <td>0.792793</td>\n",
       "      <td>1.246413</td>\n",
       "      <td>0.633362</td>\n",
       "    </tr>\n",
       "    <tr>\n",
       "      <th>std</th>\n",
       "      <td>31.321205</td>\n",
       "      <td>3.998853</td>\n",
       "      <td>5.715677</td>\n",
       "      <td>6.630261</td>\n",
       "      <td>134.919605</td>\n",
       "      <td>201.749735</td>\n",
       "      <td>27.810201</td>\n",
       "      <td>1497.383112</td>\n",
       "      <td>10.753092</td>\n",
       "      <td>16.987373</td>\n",
       "      <td>...</td>\n",
       "      <td>30.089196</td>\n",
       "      <td>15.666320</td>\n",
       "      <td>104.550838</td>\n",
       "      <td>22.460944</td>\n",
       "      <td>6.226125</td>\n",
       "      <td>8.647654</td>\n",
       "      <td>1.106825</td>\n",
       "      <td>1.382469</td>\n",
       "      <td>1.649896</td>\n",
       "      <td>0.715162</td>\n",
       "    </tr>\n",
       "    <tr>\n",
       "      <th>min</th>\n",
       "      <td>1.000000</td>\n",
       "      <td>21.000000</td>\n",
       "      <td>1.000000</td>\n",
       "      <td>0.000000</td>\n",
       "      <td>0.000000</td>\n",
       "      <td>0.000000</td>\n",
       "      <td>0.000000</td>\n",
       "      <td>0.000000</td>\n",
       "      <td>0.000000</td>\n",
       "      <td>0.000000</td>\n",
       "      <td>...</td>\n",
       "      <td>0.000000</td>\n",
       "      <td>0.000000</td>\n",
       "      <td>0.000000</td>\n",
       "      <td>0.000000</td>\n",
       "      <td>-10.000000</td>\n",
       "      <td>-45.000000</td>\n",
       "      <td>0.000000</td>\n",
       "      <td>0.000000</td>\n",
       "      <td>0.000000</td>\n",
       "      <td>0.000000</td>\n",
       "    </tr>\n",
       "    <tr>\n",
       "      <th>25%</th>\n",
       "      <td>28.500000</td>\n",
       "      <td>25.000000</td>\n",
       "      <td>5.500000</td>\n",
       "      <td>1.000000</td>\n",
       "      <td>1.000000</td>\n",
       "      <td>1.000000</td>\n",
       "      <td>57.800000</td>\n",
       "      <td>15.000000</td>\n",
       "      <td>0.000000</td>\n",
       "      <td>0.000000</td>\n",
       "      <td>...</td>\n",
       "      <td>17.525000</td>\n",
       "      <td>0.000000</td>\n",
       "      <td>0.000000</td>\n",
       "      <td>0.000000</td>\n",
       "      <td>3.532500</td>\n",
       "      <td>3.000000</td>\n",
       "      <td>0.000000</td>\n",
       "      <td>0.000000</td>\n",
       "      <td>0.000000</td>\n",
       "      <td>0.000000</td>\n",
       "    </tr>\n",
       "    <tr>\n",
       "      <th>50%</th>\n",
       "      <td>54.000000</td>\n",
       "      <td>27.000000</td>\n",
       "      <td>11.000000</td>\n",
       "      <td>7.000000</td>\n",
       "      <td>25.000000</td>\n",
       "      <td>41.000000</td>\n",
       "      <td>65.000000</td>\n",
       "      <td>257.000000</td>\n",
       "      <td>1.000000</td>\n",
       "      <td>3.100000</td>\n",
       "      <td>...</td>\n",
       "      <td>46.700000</td>\n",
       "      <td>3.000000</td>\n",
       "      <td>22.000000</td>\n",
       "      <td>5.195000</td>\n",
       "      <td>5.510000</td>\n",
       "      <td>5.230000</td>\n",
       "      <td>0.000000</td>\n",
       "      <td>0.000000</td>\n",
       "      <td>1.000000</td>\n",
       "      <td>0.333333</td>\n",
       "    </tr>\n",
       "    <tr>\n",
       "      <th>75%</th>\n",
       "      <td>81.500000</td>\n",
       "      <td>30.000000</td>\n",
       "      <td>17.000000</td>\n",
       "      <td>15.000000</td>\n",
       "      <td>188.000000</td>\n",
       "      <td>298.500000</td>\n",
       "      <td>70.575000</td>\n",
       "      <td>2057.500000</td>\n",
       "      <td>12.000000</td>\n",
       "      <td>4.575000</td>\n",
       "      <td>...</td>\n",
       "      <td>64.650000</td>\n",
       "      <td>21.000000</td>\n",
       "      <td>133.000000</td>\n",
       "      <td>8.892500</td>\n",
       "      <td>6.667500</td>\n",
       "      <td>7.132500</td>\n",
       "      <td>1.000000</td>\n",
       "      <td>1.000000</td>\n",
       "      <td>2.000000</td>\n",
       "      <td>1.176471</td>\n",
       "    </tr>\n",
       "    <tr>\n",
       "      <th>max</th>\n",
       "      <td>109.000000</td>\n",
       "      <td>41.000000</td>\n",
       "      <td>17.000000</td>\n",
       "      <td>17.000000</td>\n",
       "      <td>460.000000</td>\n",
       "      <td>652.000000</td>\n",
       "      <td>100.000000</td>\n",
       "      <td>4918.000000</td>\n",
       "      <td>43.000000</td>\n",
       "      <td>100.000000</td>\n",
       "      <td>...</td>\n",
       "      <td>100.000000</td>\n",
       "      <td>68.000000</td>\n",
       "      <td>466.000000</td>\n",
       "      <td>100.000000</td>\n",
       "      <td>35.000000</td>\n",
       "      <td>35.000000</td>\n",
       "      <td>5.000000</td>\n",
       "      <td>7.000000</td>\n",
       "      <td>10.250000</td>\n",
       "      <td>2.529412</td>\n",
       "    </tr>\n",
       "  </tbody>\n",
       "</table>\n",
       "<p>8 rows × 30 columns</p>\n",
       "</div>"
      ],
      "text/plain": [
       "               Rk         Age           G          GS         Cmp         Att  \\\n",
       "count  111.000000  111.000000  111.000000  111.000000  111.000000  111.000000   \n",
       "mean    54.981982   28.009009   10.639640    7.468468  105.009009  160.909910   \n",
       "std     31.321205    3.998853    5.715677    6.630261  134.919605  201.749735   \n",
       "min      1.000000   21.000000    1.000000    0.000000    0.000000    0.000000   \n",
       "25%     28.500000   25.000000    5.500000    1.000000    1.000000    1.000000   \n",
       "50%     54.000000   27.000000   11.000000    7.000000   25.000000   41.000000   \n",
       "75%     81.500000   30.000000   17.000000   15.000000  188.000000  298.500000   \n",
       "max    109.000000   41.000000   17.000000   17.000000  460.000000  652.000000   \n",
       "\n",
       "             Cmp%          Yds          TD         TD%  ...         QBR  \\\n",
       "count  106.000000   111.000000  111.000000  106.000000  ...  100.000000   \n",
       "mean    61.426415  1146.846847    7.297297    5.910377  ...   44.030000   \n",
       "std     27.810201  1497.383112   10.753092   16.987373  ...   30.089196   \n",
       "min      0.000000     0.000000    0.000000    0.000000  ...    0.000000   \n",
       "25%     57.800000    15.000000    0.000000    0.000000  ...   17.525000   \n",
       "50%     65.000000   257.000000    1.000000    3.100000  ...   46.700000   \n",
       "75%     70.575000  2057.500000   12.000000    4.575000  ...   64.650000   \n",
       "max    100.000000  4918.000000   43.000000  100.000000  ...  100.000000   \n",
       "\n",
       "               Sk       Yds.1         Sk%        NY/A       ANY/A         4QC  \\\n",
       "count  111.000000  111.000000  112.000000  112.000000  112.000000  111.000000   \n",
       "mean    11.855856   77.936937   10.816161    5.849464    5.780714    0.594595   \n",
       "std     15.666320  104.550838   22.460944    6.226125    8.647654    1.106825   \n",
       "min      0.000000    0.000000    0.000000  -10.000000  -45.000000    0.000000   \n",
       "25%      0.000000    0.000000    0.000000    3.532500    3.000000    0.000000   \n",
       "50%      3.000000   22.000000    5.195000    5.510000    5.230000    0.000000   \n",
       "75%     21.000000  133.000000    8.892500    6.667500    7.132500    1.000000   \n",
       "max     68.000000  466.000000  100.000000   35.000000   35.000000    5.000000   \n",
       "\n",
       "              GWD  TD_INT_ratio  Td_per_game  \n",
       "count  111.000000    111.000000   111.000000  \n",
       "mean     0.792793      1.246413     0.633362  \n",
       "std      1.382469      1.649896     0.715162  \n",
       "min      0.000000      0.000000     0.000000  \n",
       "25%      0.000000      0.000000     0.000000  \n",
       "50%      0.000000      1.000000     0.333333  \n",
       "75%      1.000000      2.000000     1.176471  \n",
       "max      7.000000     10.250000     2.529412  \n",
       "\n",
       "[8 rows x 30 columns]"
      ]
     },
     "execution_count": 10,
     "metadata": {},
     "output_type": "execute_result"
    }
   ],
   "source": [
    "# start of exploratory data analysis\n",
    "df.describe()"
   ]
  },
  {
   "cell_type": "code",
   "execution_count": 11,
   "metadata": {},
   "outputs": [
    {
     "name": "stdout",
     "output_type": "stream",
     "text": [
      "Name: seaborn\n",
      "Version: 0.13.2\n",
      "Summary: Statistical data visualization\n",
      "Home-page: \n",
      "Author: \n",
      "Author-email: Michael Waskom <mwaskom@gmail.com>\n",
      "License: \n",
      "Location: /Library/Frameworks/Python.framework/Versions/3.11/lib/python3.11/site-packages\n",
      "Requires: matplotlib, numpy, pandas\n",
      "Required-by: \n"
     ]
    }
   ],
   "source": [
    "!pip show seaborn"
   ]
  },
  {
   "cell_type": "code",
   "execution_count": 3,
   "metadata": {},
   "outputs": [],
   "source": [
    "import seaborn as sns\n",
    "import matplotlib.pyplot as plt"
   ]
  }
 ],
 "metadata": {
  "kernelspec": {
   "display_name": "Python 3",
   "language": "python",
   "name": "python3"
  },
  "language_info": {
   "codemirror_mode": {
    "name": "ipython",
    "version": 3
   },
   "file_extension": ".py",
   "mimetype": "text/x-python",
   "name": "python",
   "nbconvert_exporter": "python",
   "pygments_lexer": "ipython3",
   "version": "3.11.5"
  },
  "orig_nbformat": 4
 },
 "nbformat": 4,
 "nbformat_minor": 2
}
